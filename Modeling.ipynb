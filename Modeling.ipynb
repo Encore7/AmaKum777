{
 "cells": [
  {
   "cell_type": "code",
   "execution_count": 117,
   "id": "c8feb95e",
   "metadata": {},
   "outputs": [],
   "source": [
    "# importing Libraries\n",
    "\n",
    "import pandas as pd\n",
    "import numpy as np\n",
    "import re\n",
    "import nltk\n",
    "from nltk.corpus import stopwords\n",
    "from nltk.stem import SnowballStemmer\n",
    "from nltk.tokenize import word_tokenize\n",
    "from plotly.offline import iplot\n",
    "import matplotlib.pyplot as plt\n",
    "import seaborn as sns\n",
    "from sklearn.feature_extraction.text import TfidfVectorizer\n",
    "from sklearn.preprocessing import LabelEncoder\n",
    "from tensorflow.keras.preprocessing.text import Tokenizer\n",
    "from tensorflow.keras.preprocessing.sequence import pad_sequences\n",
    "from tensorflow.keras.models import Sequential\n",
    "from tensorflow.keras.layers import Dense, Embedding, LSTM, SpatialDropout1D\n",
    "from sklearn.model_selection import train_test_split\n",
    "from keras.utils.np_utils import to_categorical\n",
    "from tensorflow.keras.callbacks import EarlyStopping\n",
    "from tensorflow.keras.layers import Dropout\n",
    "from sklearn.utils.class_weight import compute_class_weight\n",
    "from sklearn.metrics import accuracy_score, classification_report\n",
    "from tensorflow.keras.models import save_model, load_model"
   ]
  },
  {
   "cell_type": "code",
   "execution_count": 121,
   "id": "19d150d5",
   "metadata": {},
   "outputs": [],
   "source": [
    "# Reading the sample data\n",
    "df = pd.read_csv(\"sample_data.csv\")"
   ]
  },
  {
   "cell_type": "code",
   "execution_count": 122,
   "id": "e087343a",
   "metadata": {},
   "outputs": [
    {
     "data": {
      "text/html": [
       "<div>\n",
       "<style scoped>\n",
       "    .dataframe tbody tr th:only-of-type {\n",
       "        vertical-align: middle;\n",
       "    }\n",
       "\n",
       "    .dataframe tbody tr th {\n",
       "        vertical-align: top;\n",
       "    }\n",
       "\n",
       "    .dataframe thead th {\n",
       "        text-align: right;\n",
       "    }\n",
       "</style>\n",
       "<table border=\"1\" class=\"dataframe\">\n",
       "  <thead>\n",
       "    <tr style=\"text-align: right;\">\n",
       "      <th></th>\n",
       "      <th>text</th>\n",
       "      <th>label</th>\n",
       "    </tr>\n",
       "  </thead>\n",
       "  <tbody>\n",
       "    <tr>\n",
       "      <th>0</th>\n",
       "      <td>zucker fabrik</td>\n",
       "      <td>ft</td>\n",
       "    </tr>\n",
       "    <tr>\n",
       "      <th>1</th>\n",
       "      <td>Lebensmittel kommssionierung</td>\n",
       "      <td>ft</td>\n",
       "    </tr>\n",
       "    <tr>\n",
       "      <th>2</th>\n",
       "      <td>geländer biegen</td>\n",
       "      <td>mr</td>\n",
       "    </tr>\n",
       "    <tr>\n",
       "      <th>3</th>\n",
       "      <td>gebäudeausrüstung technische</td>\n",
       "      <td>ct</td>\n",
       "    </tr>\n",
       "    <tr>\n",
       "      <th>4</th>\n",
       "      <td>kürbiskernöl softgels</td>\n",
       "      <td>ft</td>\n",
       "    </tr>\n",
       "  </tbody>\n",
       "</table>\n",
       "</div>"
      ],
      "text/plain": [
       "                           text label\n",
       "0                 zucker fabrik    ft\n",
       "1  Lebensmittel kommssionierung    ft\n",
       "2               geländer biegen    mr\n",
       "3  gebäudeausrüstung technische    ct\n",
       "4         kürbiskernöl softgels    ft"
      ]
     },
     "execution_count": 122,
     "metadata": {},
     "output_type": "execute_result"
    }
   ],
   "source": [
    "df.head()"
   ]
  },
  {
   "cell_type": "code",
   "execution_count": 123,
   "id": "878eec74",
   "metadata": {},
   "outputs": [
    {
     "data": {
      "text/plain": [
       "ft     30.181476\n",
       "pkg    25.855626\n",
       "ct     13.606668\n",
       "mr     13.485684\n",
       "ch      9.915311\n",
       "cnc     6.955236\n",
       "Name: label, dtype: float64"
      ]
     },
     "execution_count": 123,
     "metadata": {},
     "output_type": "execute_result"
    }
   ],
   "source": [
    "df.label.value_counts(normalize=True)*100"
   ]
  },
  {
   "cell_type": "code",
   "execution_count": 124,
   "id": "2993e2a1",
   "metadata": {},
   "outputs": [
    {
     "data": {
      "text/plain": [
       "text       0\n",
       "label    100\n",
       "dtype: int64"
      ]
     },
     "execution_count": 124,
     "metadata": {},
     "output_type": "execute_result"
    }
   ],
   "source": [
    "df.isnull().sum()"
   ]
  },
  {
   "cell_type": "markdown",
   "id": "1a953ab5",
   "metadata": {},
   "source": [
    "## Preprocessing "
   ]
  },
  {
   "cell_type": "code",
   "execution_count": 125,
   "id": "ec9a2acc",
   "metadata": {},
   "outputs": [],
   "source": [
    "def remove_unwanted(text):\n",
    "    # Remove email addresses\n",
    "    text = re.sub(r'\\S+@\\S+', '', text)\n",
    "    # Remove HTML tags\n",
    "    text = re.sub(r'<.*?>', '', text)\n",
    "    # Remove URLs\n",
    "    text = re.sub(r'http\\S+|www\\S+|https\\S+', '', text)\n",
    "    \n",
    "    return text\n",
    "\n",
    "def remove_special_characters(text):\n",
    "    # Define a regular expression pattern to match non-German letters, digits, and whitespace\n",
    "    pattern = re.compile(r'[^a-zA-ZäöüßÄÖÜ0-9\\s]')\n",
    "    # Use the pattern to replace non-matching characters with an empty string\n",
    "    cleaned_text = pattern.sub('', text)\n",
    "    \n",
    "    return cleaned_text\n",
    "\n",
    "def preprocess_german_text(text):\n",
    "    text = text.lower()\n",
    "    # Tokenization\n",
    "    tokens = word_tokenize(text, language='german')\n",
    "    # Removal of stopwords\n",
    "    stop_words = set(stopwords.words('german'))\n",
    "    tokens = [token for token in tokens if token.lower() not in stop_words]\n",
    "    # Stemming\n",
    "    stemmer = SnowballStemmer('german')\n",
    "    # Filter out single letters if they are standalone tokens\n",
    "    tokens = [stemmer.stem(token) if len(token) > 1 else token for token in tokens]\n",
    "    \n",
    "    return ' '.join(tokens)"
   ]
  },
  {
   "cell_type": "code",
   "execution_count": 126,
   "id": "e8f3fa38",
   "metadata": {},
   "outputs": [],
   "source": [
    "def preprocess(df, column):\n",
    "    df[column] = df[column].apply(remove_unwanted)\n",
    "    df[column] = df[column].apply(remove_special_characters)\n",
    "    df[column] = df[column].apply(preprocess_german_text)\n",
    "    df[column] = df[column].str.strip()\n",
    "    df.loc[df['text'].apply(lambda x: len(preprocess_german_text(x)) <= 1), 'text'] = np.nan\n",
    "    for col in df.columns:\n",
    "        df[col] = df[col].replace(r'^\\s*$', np.nan, regex=True)\n",
    "    df.fillna({'text': 'OTHERS'}, inplace=True)\n",
    "    df.dropna(inplace=True)\n",
    "    df.reset_index(drop=True, inplace=True)\n",
    "    \n",
    "    return df"
   ]
  },
  {
   "cell_type": "code",
   "execution_count": 127,
   "id": "72326a10",
   "metadata": {},
   "outputs": [],
   "source": [
    "data = preprocess(df, 'text')"
   ]
  },
  {
   "cell_type": "code",
   "execution_count": 128,
   "id": "eaafa71c",
   "metadata": {},
   "outputs": [
    {
     "data": {
      "text/html": [
       "<div>\n",
       "<style scoped>\n",
       "    .dataframe tbody tr th:only-of-type {\n",
       "        vertical-align: middle;\n",
       "    }\n",
       "\n",
       "    .dataframe tbody tr th {\n",
       "        vertical-align: top;\n",
       "    }\n",
       "\n",
       "    .dataframe thead th {\n",
       "        text-align: right;\n",
       "    }\n",
       "</style>\n",
       "<table border=\"1\" class=\"dataframe\">\n",
       "  <thead>\n",
       "    <tr style=\"text-align: right;\">\n",
       "      <th></th>\n",
       "      <th>text</th>\n",
       "      <th>label</th>\n",
       "    </tr>\n",
       "  </thead>\n",
       "  <tbody>\n",
       "    <tr>\n",
       "      <th>0</th>\n",
       "      <td>zuck fabrik</td>\n",
       "      <td>ft</td>\n",
       "    </tr>\n",
       "    <tr>\n",
       "      <th>1</th>\n",
       "      <td>lebensmittel kommssionier</td>\n",
       "      <td>ft</td>\n",
       "    </tr>\n",
       "    <tr>\n",
       "      <th>2</th>\n",
       "      <td>geland bieg</td>\n",
       "      <td>mr</td>\n",
       "    </tr>\n",
       "    <tr>\n",
       "      <th>3</th>\n",
       "      <td>gebaudeausrust technisch</td>\n",
       "      <td>ct</td>\n",
       "    </tr>\n",
       "    <tr>\n",
       "      <th>4</th>\n",
       "      <td>kurbiskernol softgel</td>\n",
       "      <td>ft</td>\n",
       "    </tr>\n",
       "  </tbody>\n",
       "</table>\n",
       "</div>"
      ],
      "text/plain": [
       "                        text label\n",
       "0                zuck fabrik    ft\n",
       "1  lebensmittel kommssionier    ft\n",
       "2                geland bieg    mr\n",
       "3   gebaudeausrust technisch    ct\n",
       "4       kurbiskernol softgel    ft"
      ]
     },
     "execution_count": 128,
     "metadata": {},
     "output_type": "execute_result"
    }
   ],
   "source": [
    "data.head()"
   ]
  },
  {
   "cell_type": "code",
   "execution_count": 129,
   "id": "82119f9c",
   "metadata": {},
   "outputs": [
    {
     "data": {
      "text/plain": [
       "text     0\n",
       "label    0\n",
       "dtype: int64"
      ]
     },
     "execution_count": 129,
     "metadata": {},
     "output_type": "execute_result"
    }
   ],
   "source": [
    "data.isnull().sum()"
   ]
  },
  {
   "cell_type": "markdown",
   "id": "238c14ea",
   "metadata": {},
   "source": [
    "## Training"
   ]
  },
  {
   "cell_type": "code",
   "execution_count": 130,
   "id": "12e60a2b",
   "metadata": {},
   "outputs": [
    {
     "name": "stdout",
     "output_type": "stream",
     "text": [
      "62\n"
     ]
    }
   ],
   "source": [
    "max_words_in_each_row = data['text'].apply(lambda x: len(str(x).split())).max()\n",
    "\n",
    "# Now, max_words_in_each_row will contain the maximum number of words in each row\n",
    "print(max_words_in_each_row)"
   ]
  },
  {
   "cell_type": "code",
   "execution_count": 134,
   "id": "14220f41",
   "metadata": {},
   "outputs": [
    {
     "name": "stdout",
     "output_type": "stream",
     "text": [
      "The most frequent word is: verpack with frequency: 1476\n"
     ]
    }
   ],
   "source": [
    "from collections import Counter\n",
    "\n",
    "text_column = df['text']\n",
    "\n",
    "all_text = ' '.join(text_column.astype(str))\n",
    "\n",
    "words = all_text.split()\n",
    "\n",
    "# Calculated word frequencies\n",
    "word_frequencies = Counter(words)\n",
    "\n",
    "# Find the most common word and its frequency\n",
    "most_common_word, frequency = word_frequencies.most_common(1)[0]\n",
    "\n",
    "print(f\"The most frequent word is: {most_common_word} with frequency: {frequency}\")\n"
   ]
  },
  {
   "cell_type": "code",
   "execution_count": 135,
   "id": "e06e4b35",
   "metadata": {},
   "outputs": [],
   "source": [
    "# The maximum number of words to be used. (most frequent)\n",
    "MAX_NB_WORDS = 1250\n",
    "# Max number of words in each text.\n",
    "MAX_SEQUENCE_LENGTH = 75\n",
    "EMBEDDING_DIM = 100"
   ]
  },
  {
   "cell_type": "code",
   "execution_count": 136,
   "id": "bd0a66ff",
   "metadata": {},
   "outputs": [
    {
     "name": "stdout",
     "output_type": "stream",
     "text": [
      "Found 17140 unique tokens.\n"
     ]
    }
   ],
   "source": [
    "tokenizer = Tokenizer(num_words=MAX_NB_WORDS, lower=True)\n",
    "tokenizer.fit_on_texts(data['text'].values)\n",
    "word_index = tokenizer.word_index\n",
    "print('Found %s unique tokens.' % len(word_index))"
   ]
  },
  {
   "cell_type": "code",
   "execution_count": 96,
   "id": "f7fd21f0",
   "metadata": {},
   "outputs": [],
   "source": [
    "### Create a Pickle file for mapping\n",
    "import pickle\n",
    "token_pickle = open(\"tokenizer.pkl\",\"wb\")\n",
    "pickle.dump(tokenizer, token_pickle)\n",
    "token_pickle.close()"
   ]
  },
  {
   "cell_type": "code",
   "execution_count": 86,
   "id": "ac0481e6",
   "metadata": {},
   "outputs": [
    {
     "name": "stdout",
     "output_type": "stream",
     "text": [
      "Shape of data tensor: (37195, 75)\n"
     ]
    }
   ],
   "source": [
    "X = tokenizer.texts_to_sequences(data['text'].values)\n",
    "X = pad_sequences(X, maxlen=MAX_SEQUENCE_LENGTH)\n",
    "print('Shape of data tensor:', X.shape)"
   ]
  },
  {
   "cell_type": "code",
   "execution_count": 87,
   "id": "258c8cbe",
   "metadata": {},
   "outputs": [
    {
     "name": "stdout",
     "output_type": "stream",
     "text": [
      "Shape of label tensor: (37195, 6)\n"
     ]
    }
   ],
   "source": [
    "# Output label\n",
    "Y = pd.get_dummies(data['label']).values\n",
    "print('Shape of label tensor:', Y.shape)"
   ]
  },
  {
   "cell_type": "code",
   "execution_count": 88,
   "id": "55bedb80",
   "metadata": {},
   "outputs": [
    {
     "name": "stdout",
     "output_type": "stream",
     "text": [
      "(31615, 75) (31615, 6)\n",
      "(5580, 75) (5580, 6)\n"
     ]
    }
   ],
   "source": [
    "X_train, X_test, Y_train, Y_test = train_test_split(X,Y, test_size = 0.15, random_state = 42)\n",
    "print(X_train.shape,Y_train.shape)\n",
    "print(X_test.shape,Y_test.shape)"
   ]
  },
  {
   "cell_type": "code",
   "execution_count": 90,
   "id": "ec5996ed",
   "metadata": {},
   "outputs": [
    {
     "name": "stdout",
     "output_type": "stream",
     "text": [
      "Model: \"sequential_6\"\n",
      "_________________________________________________________________\n",
      " Layer (type)                Output Shape              Param #   \n",
      "=================================================================\n",
      " embedding_6 (Embedding)     (None, 75, 100)           125000    \n",
      "                                                                 \n",
      " spatial_dropout1d_6 (Spatia  (None, 75, 100)          0         \n",
      " lDropout1D)                                                     \n",
      "                                                                 \n",
      " lstm_6 (LSTM)               (None, 75)                52800     \n",
      "                                                                 \n",
      " dense_6 (Dense)             (None, 6)                 456       \n",
      "                                                                 \n",
      "=================================================================\n",
      "Total params: 178,256\n",
      "Trainable params: 178,256\n",
      "Non-trainable params: 0\n",
      "_________________________________________________________________\n",
      "None\n"
     ]
    }
   ],
   "source": [
    "model = Sequential()\n",
    "model.add(Embedding(MAX_NB_WORDS, EMBEDDING_DIM, input_length=X.shape[1]))\n",
    "model.add(SpatialDropout1D(0.2))\n",
    "model.add(LSTM(75, dropout=0.2, recurrent_dropout=0.2))\n",
    "model.add(Dense(6, activation='softmax'))\n",
    "model.compile(loss='categorical_crossentropy', optimizer='adam', metrics=['accuracy'])\n",
    "print(model.summary())"
   ]
  },
  {
   "cell_type": "code",
   "execution_count": 91,
   "id": "c0c42bc1",
   "metadata": {},
   "outputs": [
    {
     "name": "stdout",
     "output_type": "stream",
     "text": [
      "Epoch 1/5\n",
      "445/445 [==============================] - 35s 77ms/step - loss: 0.9148 - accuracy: 0.6911 - val_loss: 0.4855 - val_accuracy: 0.8134\n",
      "Epoch 2/5\n",
      "445/445 [==============================] - 35s 78ms/step - loss: 0.4870 - accuracy: 0.8149 - val_loss: 0.4803 - val_accuracy: 0.8052\n",
      "Epoch 3/5\n",
      "445/445 [==============================] - 35s 79ms/step - loss: 0.4588 - accuracy: 0.8218 - val_loss: 0.4675 - val_accuracy: 0.8065\n",
      "Epoch 4/5\n",
      "445/445 [==============================] - 35s 79ms/step - loss: 0.4464 - accuracy: 0.8235 - val_loss: 0.4727 - val_accuracy: 0.8106\n",
      "Epoch 5/5\n",
      "445/445 [==============================] - 35s 79ms/step - loss: 0.4380 - accuracy: 0.8238 - val_loss: 0.4635 - val_accuracy: 0.8061\n"
     ]
    }
   ],
   "source": [
    "epochs = 5\n",
    "batch_size = 64\n",
    "\n",
    "class_labels = np.unique(Y_train.argmax(axis=1))\n",
    "class_weights = compute_class_weight(class_weight='balanced', classes=class_labels, y=Y_train.argmax(axis=1))\n",
    "class_weight_dict = dict(zip(class_labels, class_weights))\n",
    "\n",
    "history = model.fit(X_train, \n",
    "                    Y_train, \n",
    "                    epochs=epochs, \n",
    "                    batch_size=batch_size,\n",
    "                    validation_split=0.1,\n",
    "                    callbacks=[EarlyStopping(monitor='val_loss', patience=3, min_delta=0.0001)], \n",
    "                    class_weight=class_weight_dict)"
   ]
  },
  {
   "cell_type": "code",
   "execution_count": 92,
   "id": "63b82b13",
   "metadata": {},
   "outputs": [
    {
     "name": "stdout",
     "output_type": "stream",
     "text": [
      "175/175 [==============================] - 1s 7ms/step - loss: 0.4900 - accuracy: 0.8043\n",
      "Test set\n",
      "  Loss: 0.490\n",
      "  Accuracy: 0.804\n"
     ]
    }
   ],
   "source": [
    "accr = model.evaluate(X_test,Y_test)\n",
    "print('Test set\\n  Loss: {:0.3f}\\n  Accuracy: {:0.3f}'.format(accr[0],accr[1]))"
   ]
  },
  {
   "cell_type": "code",
   "execution_count": 93,
   "id": "499a4537",
   "metadata": {},
   "outputs": [
    {
     "name": "stdout",
     "output_type": "stream",
     "text": [
      "175/175 [==============================] - 1s 7ms/step\n",
      "Classification Report:\n",
      "               precision    recall  f1-score   support\n",
      "\n",
      "           0       0.87      0.79      0.82       532\n",
      "           1       0.34      0.91      0.50       385\n",
      "           2       0.94      0.80      0.86       770\n",
      "           3       0.94      0.82      0.88      1728\n",
      "           4       0.83      0.74      0.78       743\n",
      "           5       0.92      0.79      0.85      1422\n",
      "\n",
      "    accuracy                           0.80      5580\n",
      "   macro avg       0.81      0.81      0.78      5580\n",
      "weighted avg       0.87      0.80      0.82      5580\n",
      "\n"
     ]
    }
   ],
   "source": [
    "y_pred_probs = model.predict(X_test)\n",
    "y_pred = np.argmax(y_pred_probs, axis=1)\n",
    "\n",
    "# Decode one-hot encoded labels to original labels\n",
    "y_test_labels = np.argmax(Y_test, axis=1)\n",
    "\n",
    "# Print the classification report\n",
    "print(\"Classification Report:\\n\", classification_report(y_test_labels, y_pred))"
   ]
  },
  {
   "cell_type": "code",
   "execution_count": 26,
   "id": "18989ceb",
   "metadata": {},
   "outputs": [
    {
     "data": {
      "image/png": "[encoded data removed]",
      "text/plain": [
       "<Figure size 640x480 with 1 Axes>"
      ]
     },
     "metadata": {},
     "output_type": "display_data"
    }
   ],
   "source": [
    "plt.title('Loss')\n",
    "plt.plot(history.history['loss'], label='train')\n",
    "plt.plot(history.history['val_loss'], label='test')\n",
    "plt.legend()\n",
    "plt.show();"
   ]
  },
  {
   "cell_type": "code",
   "execution_count": 27,
   "id": "ea852a3b",
   "metadata": {},
   "outputs": [
    {
     "data": {
      "image/png": "[encoded data removed]",
      "text/plain": [
       "<Figure size 640x480 with 1 Axes>"
      ]
     },
     "metadata": {},
     "output_type": "display_data"
    }
   ],
   "source": [
    "plt.title('Accuracy')\n",
    "plt.plot(history.history['accuracy'], label='train')\n",
    "plt.plot(history.history['val_accuracy'], label='test')\n",
    "plt.legend()\n",
    "plt.show()"
   ]
  },
  {
   "cell_type": "code",
   "execution_count": 100,
   "id": "3e8fb51c",
   "metadata": {},
   "outputs": [],
   "source": [
    "# Save the trained model\n",
    "model.save('LSTM_model.h5')"
   ]
  },
  {
   "cell_type": "code",
   "execution_count": 104,
   "id": "e08d428b",
   "metadata": {},
   "outputs": [],
   "source": [
    "new = load_model('LSTM_model.h5')"
   ]
  },
  {
   "cell_type": "code",
   "execution_count": 105,
   "id": "2597964d",
   "metadata": {},
   "outputs": [
    {
     "name": "stdout",
     "output_type": "stream",
     "text": [
      "175/175 [==============================] - 1s 7ms/step\n",
      "Classification Report:\n",
      "               precision    recall  f1-score   support\n",
      "\n",
      "           0       0.87      0.79      0.82       532\n",
      "           1       0.34      0.91      0.50       385\n",
      "           2       0.94      0.80      0.86       770\n",
      "           3       0.94      0.82      0.88      1728\n",
      "           4       0.83      0.74      0.78       743\n",
      "           5       0.92      0.79      0.85      1422\n",
      "\n",
      "    accuracy                           0.80      5580\n",
      "   macro avg       0.81      0.81      0.78      5580\n",
      "weighted avg       0.87      0.80      0.82      5580\n",
      "\n"
     ]
    }
   ],
   "source": [
    "y_pred_pr = new.predict(X_test)\n",
    "y_pred_new = np.argmax(y_pred_pr, axis=1)\n",
    "\n",
    "# Decode one-hot encoded labels to original labels\n",
    "y_test_la = np.argmax(Y_test, axis=1)\n",
    "\n",
    "# Print the classification report\n",
    "print(\"Classification Report:\\n\", classification_report(y_test_la, y_pred_new))"
   ]
  },
  {
   "cell_type": "code",
   "execution_count": null,
   "id": "41a0e5f8",
   "metadata": {},
   "outputs": [],
   "source": []
  }
 ],
 "metadata": {
  "kernelspec": {
   "display_name": "Python 3 (ipykernel)",
   "language": "python",
   "name": "python3"
  },
  "language_info": {
   "codemirror_mode": {
    "name": "ipython",
    "version": 3
   },
   "file_extension": ".py",
   "mimetype": "text/x-python",
   "name": "python",
   "nbconvert_exporter": "python",
   "pygments_lexer": "ipython3",
   "version": "3.11.4"
  }
 },
 "nbformat": 4,
 "nbformat_minor": 5
}
